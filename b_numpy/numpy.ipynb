{
 "cells": [
  {
   "cell_type": "code",
   "execution_count": 2,
   "id": "b0b6f74a-a7a8-43a2-93ed-9621c1c28155",
   "metadata": {},
   "outputs": [],
   "source": [
    "import numpy as np"
   ]
  },
  {
   "cell_type": "code",
   "execution_count": 3,
   "id": "b73e0d69-5e35-47e8-9fe4-6ee96dd2b458",
   "metadata": {},
   "outputs": [
    {
     "name": "stdout",
     "output_type": "stream",
     "text": [
      "1.26.4\n"
     ]
    }
   ],
   "source": [
    "print(np.__version__)"
   ]
  },
  {
   "cell_type": "markdown",
   "id": "701011ad-5ea2-4a85-a630-e731b195de6b",
   "metadata": {},
   "source": [
    "### Numpy\n",
    "- 머신러닝 애플리케이션에서 데이터 추출, 가공, 변환과 같은 데이터 처리 부분을 담당한다.\n",
    "- 넘파이 기반의 사이킷런을 이해하기 위해 넘파이는 필수이다.\n",
    "- 사이킷런은 직관적이고 간결하기 때문에 상대적으로 개발하기 쉽지만 넘파이는 양도 많고 배울 것도 많다.\n",
    "- 넘파이 전체를 다 이해하고 공부하는 것은 머신러닝을 포기하게 만들기 때문에  \n",
    "  기본 문법과 중요 API만 이해하는 것이 전략적으로 좋다."
   ]
  },
  {
   "cell_type": "markdown",
   "id": "f67d31be-3080-4a59-ab7b-2d76b0e6dbe0",
   "metadata": {},
   "source": [
    "#### ndarray\n",
    "- N차원(n-dimension) 배열 객체이다.\n",
    "- 파이썬 list를 array() 메소드에 전달하면 ndarray로 변환되고 넘파이의 다양하고 편리한 기능들을 사용할 수 있게 된다.\n",
    "- 반드시 같은 자료형의 데이터만 담아야 한다.\n",
    "\n",
    "<img src=\"./images/numpy1.png\" width=\"400px\" style=\"margin-left: 10px;\">"
   ]
  },
  {
   "cell_type": "code",
   "execution_count": 5,
   "id": "b7d22eea-553f-4dae-a834-4c76553fa35c",
   "metadata": {},
   "outputs": [],
   "source": [
    "import numpy as np"
   ]
  },
  {
   "cell_type": "code",
   "execution_count": 10,
   "id": "d427ac03-ca7a-45ca-9c30-8f886a8d8490",
   "metadata": {},
   "outputs": [
    {
     "name": "stdout",
     "output_type": "stream",
     "text": [
      "<class 'numpy.ndarray'>\n",
      "[1 2 3]\n",
      "==============================\n",
      "(3,)\n",
      "1\n"
     ]
    }
   ],
   "source": [
    "ndarray1 = np.array([1, 2, 3])\n",
    "print(type(ndarray1), ndarray1, sep=\"\\n\")\n",
    "\n",
    "print(\"=\" * 30)\n",
    "\n",
    "# shape: 차원별 개수를 나타낸다.\n",
    "print(ndarray1.shape)\n",
    "\n",
    "# ndim: 차원을 나타낸다.\n",
    "print(ndarray1.ndim)"
   ]
  },
  {
   "cell_type": "code",
   "execution_count": 11,
   "id": "6d656660-9d5b-4a58-ad82-cae7345165a9",
   "metadata": {},
   "outputs": [
    {
     "name": "stdout",
     "output_type": "stream",
     "text": [
      "(2, 3)\n"
     ]
    }
   ],
   "source": [
    "# 아래의 2차원 list를 ndarray로 변환한다.\n",
    "# 1 2 3\n",
    "# 4 5 6\n",
    "\n",
    "# 차원을 출력해본다.\n",
    "\n",
    "ndarray2 = np.array([[1, 2, 3], [4, 5, 6]])\n",
    "print(ndarray2.shape)"
   ]
  },
  {
   "cell_type": "markdown",
   "id": "ebb07c7e-476d-41c6-859b-b6f22814b5c7",
   "metadata": {},
   "source": [
    "#### astype()\n",
    "- ndarray에 저장된 요소의 타입을 변환시킬 때 사용한다.\n",
    "- 대용량 데이터 처리 시, 메모리 절약을 위해 사용한다."
   ]
  },
  {
   "cell_type": "code",
   "execution_count": 14,
   "id": "4f0126c3-5eb5-46ba-9fb2-e6f9114224d0",
   "metadata": {},
   "outputs": [
    {
     "name": "stdout",
     "output_type": "stream",
     "text": [
      "<class 'numpy.ndarray'>\n",
      "int32\n",
      "<class 'numpy.ndarray'>\n",
      "int8\n"
     ]
    }
   ],
   "source": [
    "ndarray1 = np.array([1, 2, 3])\n",
    "\n",
    "print(type(ndarray1))\n",
    "print(ndarray1.dtype)\n",
    "\n",
    "ndarray1_int8 = ndarray1.astype(np.int8)\n",
    "print(type(ndarray1_int8))\n",
    "print(ndarray1_int8.dtype)"
   ]
  },
  {
   "cell_type": "code",
   "execution_count": 19,
   "id": "c376caee-36fd-48e0-ac34-1f0c2757387c",
   "metadata": {},
   "outputs": [
    {
     "name": "stdout",
     "output_type": "stream",
     "text": [
      "[4 5 6]\n",
      "int32\n",
      "[4. 5. 6.]\n",
      "float16\n"
     ]
    }
   ],
   "source": [
    "# 4, 5, 6을 ndarray에 담는다.\n",
    "# dtype을 확인한 뒤 float16으로 변경시키고 확인한다.\n",
    "ndarray2 = np.array([4, 5, 6])\n",
    "print(ndarray2)\n",
    "print(ndarray2.dtype)\n",
    "\n",
    "ndarray2_float16 = ndarray2.astype(np.float16)\n",
    "print(ndarray2_float16)\n",
    "print(ndarray2_float16.dtype)"
   ]
  },
  {
   "cell_type": "markdown",
   "id": "38590d65-9dde-4be7-a523-ab4d5901cc29",
   "metadata": {},
   "source": [
    "#### axis\n",
    "- 축의 방향성을 표현할 때, axis로 표현할 수 있다.\n",
    "\n",
    "<img src=\"./images/numpy2.png\" width=\"500px\" style=\"margin-left: 10px;\">"
   ]
  },
  {
   "cell_type": "markdown",
   "id": "2a64ab3a-48b6-4d2b-a578-4071891e02ce",
   "metadata": {},
   "source": [
    "#### arange(), zeros(), ones()\n",
    "- ndarray의 요소를 원하는 범위의 연속값, 0 또는 1로 초기화할 때 사용한다."
   ]
  },
  {
   "cell_type": "code",
   "execution_count": 26,
   "id": "edaf91d8-4fe0-429b-8e04-62721a869446",
   "metadata": {},
   "outputs": [
    {
     "name": "stdout",
     "output_type": "stream",
     "text": [
      "int32 (10,)\n",
      "[0 1 2 3 4 5 6 7 8 9]\n",
      "float64 (2, 3)\n",
      "[[0. 0. 0.]\n",
      " [0. 0. 0.]]\n",
      "int16 (3,)\n",
      "[1 1 1]\n"
     ]
    }
   ],
   "source": [
    "# 0~9 까지 1차원 ndarray\n",
    "ndarray1 = np.arange(0, 10)\n",
    "print(ndarray1.dtype, ndarray1.shape)\n",
    "print(ndarray1)\n",
    "\n",
    "# 2행 3열 요소 모두 0으로 초기화\n",
    "ndarray2 = np.zeros((2, 3))\n",
    "print(ndarray2.dtype, ndarray2.shape)\n",
    "print(ndarray2)\n",
    "\n",
    "# 1차원 3칸 배열 요소 모두 1로 초기화\n",
    "ndarray1 = np.ones((3,), dtype=np.int16)\n",
    "print(ndarray1.dtype, ndarray1.shape)\n",
    "print(ndarray1)"
   ]
  },
  {
   "cell_type": "markdown",
   "id": "c05ea83f-265f-4e09-be20-7d921b879531",
   "metadata": {},
   "source": [
    "#### reshape()\n",
    "- ndarray의 기존 shape를 다른 shape로 변경한다."
   ]
  },
  {
   "cell_type": "code",
   "execution_count": 31,
   "id": "06274a37-cdae-4c9e-af2e-35dbd5c8f249",
   "metadata": {},
   "outputs": [
    {
     "name": "stdout",
     "output_type": "stream",
     "text": [
      "(8,)\n",
      "[0 1 2 3 4 5 6 7]\n",
      "==============================\n",
      "(2, 4)\n",
      "[[0 1 2 3]\n",
      " [4 5 6 7]]\n",
      "==============================\n",
      "(4, 2)\n",
      "[[0 1]\n",
      " [2 3]\n",
      " [4 5]\n",
      " [6 7]]\n",
      "==============================\n",
      "(8, 1)\n",
      "[[0]\n",
      " [1]\n",
      " [2]\n",
      " [3]\n",
      " [4]\n",
      " [5]\n",
      " [6]\n",
      " [7]]\n"
     ]
    }
   ],
   "source": [
    "ndarray1 = np.arange(8)\n",
    "print(ndarray1.shape)\n",
    "print(ndarray1)\n",
    "\n",
    "print(\"=\" * 30)\n",
    "\n",
    "ndarray2 = ndarray1.reshape((2, 4))\n",
    "print(ndarray2.shape)\n",
    "print(ndarray2)\n",
    "\n",
    "print(\"=\" * 30)\n",
    "\n",
    "ndarray2 = ndarray1.reshape((-1, 2))\n",
    "print(ndarray2.shape)\n",
    "print(ndarray2)\n",
    "\n",
    "print(\"=\" * 30)\n",
    "\n",
    "ndarray2 = ndarray1.reshape((8, -1))\n",
    "print(ndarray2.shape)\n",
    "print(ndarray2)"
   ]
  },
  {
   "cell_type": "markdown",
   "id": "90ade5c2-79c2-4967-a005-f9f2c31fcd05",
   "metadata": {},
   "source": [
    "#### Indexing\n",
    "- 특정 위치의 데이터를 가져오는 것\n",
    "- 위치 인덱싱(Location indexing)\n",
    "- 슬라이싱(Slicing)\n",
    "- 팬시 인덱싱(Fancy indexing)\n",
    "- 불린 인덱싱(Boolean indexing)"
   ]
  },
  {
   "cell_type": "code",
   "execution_count": 38,
   "id": "a3a9e863-5371-4dfe-adcd-8f40f3d4ca26",
   "metadata": {},
   "outputs": [
    {
     "name": "stdout",
     "output_type": "stream",
     "text": [
      "[ 2  3  4  5  6  7  8  9 10]\n",
      "4 <class 'numpy.int32'>\n",
      "10 <class 'numpy.int32'>\n",
      "[  2   3   4   5   6   7   8   9 100]\n",
      "9 <class 'numpy.int32'>\n"
     ]
    }
   ],
   "source": [
    "# 1차원 위치 인덱싱: 전달한 위치(인덱스) 값 한 개 추출\n",
    "\n",
    "# 2부터 10까지 순서대로 요소를 갖는 1차원 ndarray\n",
    "ndarray1 = np.arange(start=2, stop=11)\n",
    "print(ndarray1)\n",
    "\n",
    "data = ndarray1[2]\n",
    "print(data, type(data))\n",
    "\n",
    "data = ndarray1[-1]\n",
    "print(data, type(data))\n",
    "\n",
    "ndarray1[-1] = 100\n",
    "print(ndarray1)\n",
    "\n",
    "# 9 가져오기\n",
    "data = ndarray1[-2]\n",
    "print(data, type(data))"
   ]
  },
  {
   "cell_type": "code",
   "execution_count": 43,
   "id": "52ffe1ab-c4ba-4ed1-81d2-2b4d8f844448",
   "metadata": {},
   "outputs": [
    {
     "name": "stdout",
     "output_type": "stream",
     "text": [
      "[[1 2 3]\n",
      " [4 5 6]\n",
      " [7 8 9]]\n",
      "4\n",
      "5\n",
      "[1 2 3] <class 'numpy.ndarray'>\n"
     ]
    }
   ],
   "source": [
    "# 2차원 위치 인덱싱: 전달한 위치(인덱스) 값 한 개 추출\n",
    "\n",
    "# 1~9까지 1차원 ndarray 생성\n",
    "# 2차원 3행으로 변경\n",
    "ndarray1 = np.arange(start=1, stop=10)\n",
    "ndarray2 = ndarray1.reshape((3, -1))\n",
    "print(ndarray2)\n",
    "\n",
    "print(ndarray2[1, 0])\n",
    "print(ndarray2[1, 1])\n",
    "print(ndarray2[0], type(ndarray2[0]))"
   ]
  },
  {
   "cell_type": "code",
   "execution_count": 47,
   "id": "3a888d04-5b86-408f-a539-b1b85f00a104",
   "metadata": {},
   "outputs": [
    {
     "name": "stdout",
     "output_type": "stream",
     "text": [
      "[2 4 6 8]\n",
      "[2 4 6]\n",
      "[2 4 6 8]\n",
      "[2 4 6] 8\n"
     ]
    }
   ],
   "source": [
    "# 1차원 슬라이싱: 시작 위치와 종료 위치에 해당하는 ndarray 추출\n",
    "\n",
    "ndarray1 = np.arange(start=2, stop=10, step=2)\n",
    "print(ndarray1)\n",
    "\n",
    "print(ndarray1[:3])\n",
    "print(ndarray1[:])\n",
    "print(ndarray1[:-1], ndarray1[-1])"
   ]
  },
  {
   "cell_type": "code",
   "execution_count": 54,
   "id": "8a19a16c-6030-47a4-a9f1-391fdceef222",
   "metadata": {},
   "outputs": [
    {
     "name": "stdout",
     "output_type": "stream",
     "text": [
      "[ 1  2  3  4  5  6  7  8  9 10 11 12 13 14 15 16 17 18 19 20 21 22 23 24\n",
      " 25 26 27]\n",
      "==============================\n",
      "[[ 1  2  3]\n",
      " [ 4  5  6]\n",
      " [ 7  8  9]\n",
      " [10 11 12]\n",
      " [13 14 15]\n",
      " [16 17 18]\n",
      " [19 20 21]\n",
      " [22 23 24]\n",
      " [25 26 27]]\n",
      "==============================\n",
      "[[1 2]\n",
      " [4 5]\n",
      " [7 8]]\n",
      "==============================\n",
      "[[13 14 15]\n",
      " [16 17 18]\n",
      " [19 20 21]\n",
      " [22 23 24]\n",
      " [25 26 27]]\n",
      "==============================\n",
      "[[25 26 27]\n",
      " [22 23 24]\n",
      " [19 20 21]\n",
      " [16 17 18]\n",
      " [13 14 15]\n",
      " [10 11 12]\n",
      " [ 7  8  9]\n",
      " [ 4  5  6]\n",
      " [ 1  2  3]]\n",
      "==============================\n",
      "[[27 26 25]\n",
      " [24 23 22]\n",
      " [21 20 19]\n",
      " [18 17 16]\n",
      " [15 14 13]\n",
      " [12 11 10]\n",
      " [ 9  8  7]\n",
      " [ 6  5  4]\n",
      " [ 3  2  1]]\n"
     ]
    }
   ],
   "source": [
    "# 2차원 슬라이싱: 시작 위치와 종료 위치에 해당하는 ndarray 추출\n",
    "\n",
    "ndarray1 = np.arange(start=1, stop=28)\n",
    "print(ndarray1)\n",
    "\n",
    "print(\"=\" * 30)\n",
    "\n",
    "ndarray2 = ndarray1.reshape((-1, 3))\n",
    "print(ndarray2)\n",
    "\n",
    "print(\"=\" * 30)\n",
    "\n",
    "print(ndarray2[:3, :2])\n",
    "\n",
    "print(\"=\" * 30)\n",
    "\n",
    "print(ndarray2[4:9])\n",
    "\n",
    "print(\"=\" * 30)\n",
    "\n",
    "print(ndarray2[::-1])\n",
    "\n",
    "print(\"=\" * 30)\n",
    "\n",
    "print(ndarray2[::-1, ::-1])"
   ]
  },
  {
   "cell_type": "code",
   "execution_count": 57,
   "id": "d9d06ff8-3e27-48e8-a53b-d954755b7a35",
   "metadata": {},
   "outputs": [
    {
     "name": "stdout",
     "output_type": "stream",
     "text": [
      "[[ 1  2  3  4  5]\n",
      " [ 6  7  8  9 10]\n",
      " [11 12 13 14 15]\n",
      " [16 17 18 19 20]]\n",
      "==============================\n"
     ]
    },
    {
     "data": {
      "text/plain": [
       "array([[ 3,  4,  5],\n",
       "       [ 8,  9, 10],\n",
       "       [18, 19, 20]])"
      ]
     },
     "execution_count": 57,
     "metadata": {},
     "output_type": "execute_result"
    }
   ],
   "source": [
    "# 팬시 인덱싱: list를 전달해서 한 번에 여러 요소를 추출한다.\n",
    "\n",
    "ndarray1 = np.arange(start=1, stop=21)\n",
    "ndarray2 = ndarray1.reshape((4, -1))\n",
    "print(ndarray2)\n",
    "\n",
    "print(\"=\" * 30)\n",
    "\n",
    "ndarray2[[0, 1, 3], 2:5]"
   ]
  },
  {
   "cell_type": "code",
   "execution_count": 61,
   "id": "ad94864e-5eea-40ca-9bf9-70e0aeb40804",
   "metadata": {},
   "outputs": [
    {
     "name": "stdout",
     "output_type": "stream",
     "text": [
      "[ 10  25  40  55  70  85 100]\n"
     ]
    }
   ],
   "source": [
    "# 불린 인덱싱: True인 위치의 ndarray 추출\n",
    "\n",
    "ndarray1 = np.arange(start=1, stop=101, step=3)\n",
    "print(ndarray1[ndarray1 % 5 == 0])"
   ]
  },
  {
   "cell_type": "markdown",
   "id": "1dcfe0b8-a166-43a7-b4f2-fdd1b111e7da",
   "metadata": {},
   "source": [
    "#### Sorting\n",
    "- 모두 오름차순 정렬이며, 내림차순은 오름차순 정렬 후 [::-1]을 붙여 사용한다."
   ]
  },
  {
   "cell_type": "code",
   "execution_count": 63,
   "id": "d5d48177-cfbc-4d08-bf73-f792924c23bc",
   "metadata": {},
   "outputs": [
    {
     "name": "stdout",
     "output_type": "stream",
     "text": [
      "[0 2 4 5]\n",
      "원본 배열: [0 4 2 5]\n",
      "오름차순으로 정렬된 배열: [0 2 4 5]\n",
      "내림차순으로 정렬된 배열: [5 4 2 0]\n"
     ]
    }
   ],
   "source": [
    "# np.sort(ndarray)\n",
    "\n",
    "original_ndarray = np.array([0, 4, 2, 5])\n",
    "sorted_ndarray = np.sort(original_ndarray)\n",
    "print(sorted_ndarray)\n",
    "\n",
    "print(f'원본 배열: {original_ndarray}')\n",
    "print(f'오름차순으로 정렬된 배열: {sorted_ndarray}')\n",
    "print(f'내림차순으로 정렬된 배열: {sorted_ndarray[::-1]}')"
   ]
  },
  {
   "cell_type": "code",
   "execution_count": 70,
   "id": "b008ca3a-fc8d-40e8-a732-39c4ed33aa37",
   "metadata": {},
   "outputs": [
    {
     "name": "stdout",
     "output_type": "stream",
     "text": [
      "원본\n",
      "[[20 18 16 14 12]\n",
      " [10  8  6  4  2]]\n",
      "axis=0 정렬\n",
      "[[10  8  6  4  2]\n",
      " [20 18 16 14 12]]\n",
      "axis=1 정렬\n",
      "[[10  8  6  4  2]\n",
      " [20 18 16 14 12]]\n"
     ]
    }
   ],
   "source": [
    "# np.sort(ndarray, axis=n)\n",
    "\n",
    "ndarray1 = np.array([i for i in range(20, 0, -2)])\n",
    "ndarray2 = ndarray1.reshape((2, -1))\n",
    "print(f'원본\\n{ndarray2}')\n",
    "\n",
    "sorted_ndarray_axis0 = np.sort(ndarray2, axis=0)\n",
    "print(f'axis=0 정렬\\n{sorted_ndarray_axis0}')\n",
    "\n",
    "sorted_ndarray_axis1 = np.sort(ndarray2, axis=1)\n",
    "print(f'axis=1 정렬\\n{sorted_ndarray_axis1[::-1, ::-1]}')"
   ]
  },
  {
   "cell_type": "code",
   "execution_count": 73,
   "id": "740ce1db-5ff0-4509-894a-e4b7a69dbd1f",
   "metadata": {},
   "outputs": [
    {
     "name": "stdout",
     "output_type": "stream",
     "text": [
      "정렬 후 원본 인덱스: [0 2 1 3]\n",
      "오름차순으로 정렬된 ndarray: [0 2 3 6]\n"
     ]
    }
   ],
   "source": [
    "# np.argsort(ndarray)\n",
    "\n",
    "original_ndarray = np.array([0, 3, 2, 6])\n",
    "sorted_indices = np.argsort(original_ndarray)\n",
    "print(f'정렬 후 원본 인덱스: {sorted_indices}')\n",
    "\n",
    "sorted_ndarray = original_ndarray[sorted_indices]\n",
    "print(f'오름차순으로 정렬된 ndarray: {sorted_ndarray}')"
   ]
  },
  {
   "cell_type": "code",
   "execution_count": 74,
   "id": "fad6310c-6d9a-4ff9-9740-993a993a1b95",
   "metadata": {},
   "outputs": [
    {
     "name": "stdout",
     "output_type": "stream",
     "text": [
      "['Lamborghini' 'Mclaren' 'Bentley' 'Benz' 'The New Morning']\n"
     ]
    }
   ],
   "source": [
    "# 제로백이 빠른 순으로 자동차 이름 정렬하기\n",
    "\n",
    "cars = np.array(['Lamborghini', 'Mclaren', 'Benz', 'Bentley', 'The New Morning'])\n",
    "zero100 = np.array([2.8, 2.9, 5.2, 3.7, 13.5])\n",
    "sorted_indices = np.argsort(zero100)\n",
    "sorted_cars = cars[sorted_indices]\n",
    "print(sorted_cars)"
   ]
  },
  {
   "cell_type": "markdown",
   "id": "e48afc4a-b62e-4f88-801b-70ecb22c327a",
   "metadata": {},
   "source": [
    "### 벡터\n",
    "- 데이터 과학에서 벡터란 숫자 자료를 나열한 것을 의미한다.\n",
    "- 벡터는 공간에서 한 점을 나타낸다.\n",
    "- feature 1개 당 1차원이고, feature가 3개면 3차원이다.\n",
    "- 이 때, 1차원 좌표평면에서는 열벡터를 표현할 수 있으며, 2차원 좌표평면에서는 2열 데이터를 표현할 수 있게 된다."
   ]
  },
  {
   "cell_type": "markdown",
   "id": "f9a4c36b-c0d3-4b18-9960-ba9b3331677f",
   "metadata": {},
   "source": [
    "#### 내적 (Dot product)\n",
    "- 두 벡터의 성분들의 곱의 합  \n",
    "  \n",
    "<img src=\"./images/dot_product.png\" width=\"500px\" style=\"margin-left: 0;\">"
   ]
  },
  {
   "cell_type": "markdown",
   "id": "5c9c300c-c566-4be9-a832-19d615bee3c3",
   "metadata": {},
   "source": [
    "#### 선형대수 (Linear Algebra)\n",
    "- 선형 방정식을 풀기 위해 배우는 학문이다.\n",
    "- 4x = 16 ∴ x = 4\n",
    "- 좌항의 4를 우항으로 이항하여 x의 값을 구할 수 있고, 방정식 1개만으로 해를 구할 수 있다.\n",
    "- y = 2x + 5 의 경우, 미지수가 2개이기 때문에 방정식이 2개 필요하다.\n",
    "- 이러한 연립 방정식을 표현할 때 쉽게 표현하기 위해서 선형대수를 배운다."
   ]
  },
  {
   "cell_type": "code",
   "execution_count": 3,
   "id": "0a895fef-6a3e-4b12-95b4-1dee44116595",
   "metadata": {},
   "outputs": [
    {
     "name": "stdout",
     "output_type": "stream",
     "text": [
      "[[1 2]\n",
      " [3 4]]\n",
      "[[5]\n",
      " [6]]\n",
      "[[17]\n",
      " [39]]\n"
     ]
    }
   ],
   "source": [
    "import numpy as np\n",
    "A = np.array([1, 2, 3, 4]).reshape((2, 2))\n",
    "w = np.array([5, 6]).reshape((2, 1))\n",
    "\n",
    "print(A, w, sep=\"\\n\")\n",
    "print(np.dot(A, w))"
   ]
  },
  {
   "cell_type": "code",
   "execution_count": 4,
   "id": "12378715-4cdc-40a6-a6c5-66a5922561c5",
   "metadata": {},
   "outputs": [
    {
     "name": "stdout",
     "output_type": "stream",
     "text": [
      "[[8.]\n",
      " [2.]]\n"
     ]
    }
   ],
   "source": [
    "# x + y = 10\n",
    "# 2x - 3y = 10\n",
    "\n",
    "# Aw = k\n",
    "\n",
    "A = np.array([[1, 1], [2, -3]])\n",
    "k = np.array([[10, 10]]).T\n",
    "w = np.dot(np.linalg.inv(A), k)\n",
    "print(w)\n"
   ]
  },
  {
   "cell_type": "code",
   "execution_count": 5,
   "id": "c64d8964-7297-4ac9-814f-2ac44f358356",
   "metadata": {},
   "outputs": [
    {
     "name": "stdout",
     "output_type": "stream",
     "text": [
      "[[ 8.]\n",
      " [-2.]\n",
      " [-1.]]\n"
     ]
    }
   ],
   "source": [
    "# x + 2y + 3z = 1\n",
    "# x + 2y + z = 3\n",
    "# x + 3z = 5\n",
    "\n",
    "# Aw = k\n",
    "\n",
    "A = np.array([[1, 2, 3], [1, 2, 1], [1, 0, 3]])\n",
    "k = np.array([[1, 3, 5]]).T\n",
    "w = np.dot(np.linalg.inv(A), k)\n",
    "print(w)"
   ]
  },
  {
   "cell_type": "markdown",
   "id": "cb0cb052-27d6-4e8a-a10e-281dc0a5d301",
   "metadata": {},
   "source": [
    "#### 과결정계(Overdetermined system)\n",
    "- 미지수보다 많은 방정식이 있는 연립방정식으로서 보통 해가 존재하지 않는다.\n",
    "- 3차원 공간에 존재하는 2차원 평면에서 3차원 공간의 해를 구할 수 없기 때문에, 3차원을 2차원으로 축소해야 하고,  \n",
    "  이 때 투영이 필요하다.\n",
    "- 투영 시 원본 값에서 어느 정도의 loss(손실)가 발생하지만 이를 감안하여 근삿값을 구한다."
   ]
  },
  {
   "cell_type": "code",
   "execution_count": null,
   "id": "a44b5c67-1af3-438d-a21f-84399727ed7b",
   "metadata": {},
   "outputs": [],
   "source": []
  },
  {
   "cell_type": "code",
   "execution_count": null,
   "id": "54f5a240-1443-4e03-895d-fb56051ded6f",
   "metadata": {},
   "outputs": [],
   "source": []
  },
  {
   "cell_type": "code",
   "execution_count": null,
   "id": "93217cb2-2f82-42b9-a2f5-a0ac00a7cce0",
   "metadata": {},
   "outputs": [],
   "source": []
  },
  {
   "cell_type": "code",
   "execution_count": null,
   "id": "3db69c06-5d63-4ee3-963b-245774a653b1",
   "metadata": {},
   "outputs": [],
   "source": []
  },
  {
   "cell_type": "code",
   "execution_count": null,
   "id": "72439aff-7022-4564-a98a-0251054f3200",
   "metadata": {},
   "outputs": [],
   "source": []
  },
  {
   "cell_type": "code",
   "execution_count": null,
   "id": "c6316a95-d160-4d73-b6d4-49a113f164eb",
   "metadata": {},
   "outputs": [],
   "source": []
  },
  {
   "cell_type": "code",
   "execution_count": null,
   "id": "70be3a9c-b171-41f2-a02e-f1d719dd03df",
   "metadata": {},
   "outputs": [],
   "source": []
  },
  {
   "cell_type": "code",
   "execution_count": null,
   "id": "fd106237-5bc7-4495-b8a0-41722e9a1043",
   "metadata": {},
   "outputs": [],
   "source": []
  },
  {
   "cell_type": "code",
   "execution_count": null,
   "id": "a07ad022-a5e5-4d01-b377-30fe61203ee3",
   "metadata": {},
   "outputs": [],
   "source": []
  },
  {
   "cell_type": "code",
   "execution_count": null,
   "id": "7f56e158-d621-4e10-9add-1358c59775df",
   "metadata": {},
   "outputs": [],
   "source": []
  },
  {
   "cell_type": "code",
   "execution_count": null,
   "id": "754fcecb-f7f4-4be2-8515-822930856344",
   "metadata": {},
   "outputs": [],
   "source": []
  },
  {
   "cell_type": "code",
   "execution_count": null,
   "id": "5cf29769-1147-43e0-a89a-02cc1278c66a",
   "metadata": {},
   "outputs": [],
   "source": []
  },
  {
   "cell_type": "code",
   "execution_count": null,
   "id": "b541a439-6f93-4510-955a-487286c2f41d",
   "metadata": {},
   "outputs": [],
   "source": []
  },
  {
   "cell_type": "code",
   "execution_count": null,
   "id": "9541e5bf-53ca-4a92-a9e6-f0d3d7d60998",
   "metadata": {},
   "outputs": [],
   "source": []
  },
  {
   "cell_type": "code",
   "execution_count": null,
   "id": "689c7679-cf62-48f1-be26-1a872f5a4efd",
   "metadata": {},
   "outputs": [],
   "source": []
  }
 ],
 "metadata": {
  "kernelspec": {
   "display_name": "Python 3 (ipykernel)",
   "language": "python",
   "name": "python3"
  },
  "language_info": {
   "codemirror_mode": {
    "name": "ipython",
    "version": 3
   },
   "file_extension": ".py",
   "mimetype": "text/x-python",
   "name": "python",
   "nbconvert_exporter": "python",
   "pygments_lexer": "ipython3",
   "version": "3.11.8"
  }
 },
 "nbformat": 4,
 "nbformat_minor": 5
}
