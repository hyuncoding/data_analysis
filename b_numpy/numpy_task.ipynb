{
 "cells": [
  {
   "cell_type": "markdown",
   "id": "3b2f96da-7643-4f6a-a4ec-6d9594ff673d",
   "metadata": {},
   "source": [
    "### Numpy Task"
   ]
  },
  {
   "cell_type": "code",
   "execution_count": 1,
   "id": "fa25bc78-edae-4312-8210-cda42dad0fd4",
   "metadata": {},
   "outputs": [
    {
     "name": "stdout",
     "output_type": "stream",
     "text": [
      "[ 1  2  3  4  5  6  7  8  9 10]\n",
      "==============================\n"
     ]
    }
   ],
   "source": [
    "import numpy as np\n",
    "# 1~10까지의 요소를 ndarray에 담는다.\n",
    "ndarray1 = np.arange(start=1, stop=11)\n",
    "print(ndarray1)\n",
    "print(\"=\" * 30)\n"
   ]
  },
  {
   "cell_type": "code",
   "execution_count": 2,
   "id": "be7f74ab-3864-43c2-8dba-aa083fcf588a",
   "metadata": {},
   "outputs": [
    {
     "name": "stdout",
     "output_type": "stream",
     "text": [
      "[[6 5]\n",
      " [4 3]\n",
      " [2 1]]\n",
      "==============================\n"
     ]
    }
   ],
   "source": [
    "# 3행 2열 list를 ndarray에 담고 각 요소는 순서대로 6, 5, 4, 3, 2, 1이다.\n",
    "ndarray2 = np.array([[6, 5], [4, 3], [2, 1]])\n",
    "print(ndarray2)\n",
    "print(\"=\" * 30)"
   ]
  },
  {
   "cell_type": "code",
   "execution_count": 4,
   "id": "180a3f4b-2648-4783-a899-a781e915e4eb",
   "metadata": {},
   "outputs": [
    {
     "name": "stdout",
     "output_type": "stream",
     "text": [
      "[[10]\n",
      " [ 8]\n",
      " [ 6]\n",
      " [ 4]]\n",
      "==============================\n",
      "[[10]\n",
      " [ 8]\n",
      " [ 6]\n",
      " [ 4]]\n"
     ]
    }
   ],
   "source": [
    "# 4행 1열 ndarray, 순서대로 10, 8, 6, 4를 담는다\n",
    "# Transpose: 전치. 행과 열을 바꿔준다.\n",
    "ndarray1 = np.arange(start=10, stop=2, step=-2)\n",
    "ndarray2 = ndarray1.reshape((4, -1))\n",
    "print(ndarray2)\n",
    "print(\"=\" * 30)\n",
    "ndarray2 = np.array([[(5 - i) * 2 for i in range(4)]]).T\n",
    "print(ndarray2)"
   ]
  },
  {
   "cell_type": "code",
   "execution_count": 5,
   "id": "aeeb5cf4-b905-4473-ac99-aca67bf62b84",
   "metadata": {},
   "outputs": [
    {
     "name": "stdout",
     "output_type": "stream",
     "text": [
      "[ 6  7  8  9 10 11 12 13 14 15]\n",
      "==============================\n"
     ]
    }
   ],
   "source": [
    "# 1~10까지 요소를 ndarray에 담고 각 요소에 5씩 더해준다.\n",
    "ndarray1 = np.arange(start=1, stop=11) + 5\n",
    "print(ndarray1)\n",
    "print(\"=\" * 30)"
   ]
  },
  {
   "cell_type": "code",
   "execution_count": 6,
   "id": "4c71b24d-16f2-4cd5-b791-1679c07511f2",
   "metadata": {},
   "outputs": [
    {
     "name": "stdout",
     "output_type": "stream",
     "text": [
      "[0 0 0 0 0 0 0 0 0 0]\n",
      "==============================\n"
     ]
    }
   ],
   "source": [
    "# axis 0이 10인 shape이면서 모든 원소가 0, dtype은 int32인 ndarray만들기\n",
    "ndarray1 = np.zeros((10,), dtype=np.int32)\n",
    "print(ndarray1)\n",
    "print(\"=\" * 30)"
   ]
  },
  {
   "cell_type": "code",
   "execution_count": 7,
   "id": "5930b3c6-c0bc-4998-b135-5dfcce612a4a",
   "metadata": {},
   "outputs": [
    {
     "name": "stdout",
     "output_type": "stream",
     "text": [
      "[[1. 1. 1. 1.]\n",
      " [1. 1. 1. 1.]\n",
      " [1. 1. 1. 1.]]\n",
      "==============================\n"
     ]
    }
   ],
   "source": [
    "# axis 0이 3, axis1이 4인 shape이면서 모든 원소가 1인 ndarray 만들기\n",
    "ndarray2 = np.ones((3, 4))\n",
    "print(ndarray2)\n",
    "print(\"=\" * 30)"
   ]
  },
  {
   "cell_type": "code",
   "execution_count": 8,
   "id": "2ec0db82-2e7a-4c1f-b57d-e72a7a920ab3",
   "metadata": {},
   "outputs": [
    {
     "name": "stdout",
     "output_type": "stream",
     "text": [
      "[0 1 2 3 4]\n",
      "==============================\n"
     ]
    }
   ],
   "source": [
    "# axis 0이 5, 각 요소가 0~4인 ndarray 만들기\n",
    "ndarray1 = np.arange(start=0, stop=5)\n",
    "print(ndarray1)\n",
    "print(\"=\" * 30)"
   ]
  },
  {
   "cell_type": "code",
   "execution_count": 9,
   "id": "7fa50d3e-8ce9-4891-bfd1-3d54d44e05b6",
   "metadata": {},
   "outputs": [
    {
     "name": "stdout",
     "output_type": "stream",
     "text": [
      "[[ 0  1]\n",
      " [ 2  3]\n",
      " [ 4  5]\n",
      " [ 6  7]\n",
      " [ 8  9]\n",
      " [10 11]\n",
      " [12 13]\n",
      " [14 15]]\n",
      "==============================\n",
      "[[ 0  1]\n",
      " [ 2  3]\n",
      " [ 4  5]\n",
      " [ 6  7]\n",
      " [ 8  9]\n",
      " [10 11]\n",
      " [12 13]\n",
      " [14 15]]\n",
      "==============================\n",
      "[[[ 0  1  2  3]\n",
      "  [ 4  5  6  7]]\n",
      "\n",
      " [[ 8  9 10 11]\n",
      "  [12 13 14 15]]]\n",
      "==============================\n",
      "[[ 0]\n",
      " [ 1]\n",
      " [ 2]\n",
      " [ 3]\n",
      " [ 4]\n",
      " [ 5]\n",
      " [ 6]\n",
      " [ 7]\n",
      " [ 8]\n",
      " [ 9]\n",
      " [10]\n",
      " [11]\n",
      " [12]\n",
      " [13]\n",
      " [14]\n",
      " [15]]\n",
      "==============================\n",
      "[ 0  1  2  3  4  5  6  7  8  9 10 11 12 13 14 15]\n",
      "==============================\n"
     ]
    }
   ],
   "source": [
    "# 아래의 ndarray1이 주어졌을 때 순서대로 문제를 해결한다.\n",
    "ndarray1 = np.arange(start=0, stop=16)\n",
    "\n",
    "# 2 Dimension, axis 1은 2로 변경\n",
    "ndarray2 = ndarray1.reshape((-1, 2))\n",
    "print(ndarray2)\n",
    "print(\"=\" * 30)\n",
    "\n",
    "# 2 Dimension, axis 0은 8로 변경\n",
    "ndarray2 = ndarray1.reshape((8, -1))\n",
    "print(ndarray2)\n",
    "print(\"=\" * 30)\n",
    "\n",
    "# 3 Dimension으로 변경\n",
    "ndarray3 = ndarray1.reshape((2, 2, 4))\n",
    "print(ndarray3)\n",
    "print(\"=\" * 30)\n",
    "\n",
    "# ndarray3을 axis 1이 1인 2차원 ndarray로 변환\n",
    "ndarray2 = ndarray3.reshape((-1, 1))\n",
    "print(ndarray2)\n",
    "print(\"=\" * 30)\n",
    "\n",
    "# ndarray3을 1 Dimension으로 변환\n",
    "ndarray1 = ndarray3.reshape((16,))\n",
    "print(ndarray1)\n",
    "print(\"=\" * 30)"
   ]
  },
  {
   "cell_type": "code",
   "execution_count": 10,
   "id": "246334d9-d4f7-41e6-98ef-b4cae51e4b89",
   "metadata": {},
   "outputs": [
    {
     "name": "stdout",
     "output_type": "stream",
     "text": [
      "97\n",
      "==============================\n"
     ]
    }
   ],
   "source": [
    "# 1차원 ndarray 1~100까지 값 중 97값 추출하기\n",
    "ndarray1 = np.arange(start=1, stop=101)\n",
    "value = ndarray1[96]\n",
    "print(value)\n",
    "print(\"=\" * 30)"
   ]
  },
  {
   "cell_type": "code",
   "execution_count": 12,
   "id": "e20ea9a2-204f-42b7-bf6e-45834d4f8c2b",
   "metadata": {},
   "outputs": [
    {
     "name": "stdout",
     "output_type": "stream",
     "text": [
      "15\n",
      "==============================\n",
      "[[ 1  2  3  4]\n",
      " [ 5  6  7  8]\n",
      " [ 9 10 11 12]\n",
      " [13 14 15 16]\n",
      " [17 18 19 20]]\n",
      "==============================\n",
      "8\n",
      "==============================\n"
     ]
    }
   ],
   "source": [
    "# 아래의 ndarray1이 주어졌을 때 순서대로 문제를 해결한다.\n",
    "ndarray1 = np.arange(start=1, stop=21)\n",
    "\n",
    "# 2차원 배열 axis 0은 4, axis 1은 5로 1~20 요소 값 중 15값 추출하기\n",
    "ndarray2 = ndarray1.reshape((4, 5))\n",
    "value = ndarray2[2, 4]\n",
    "print(value)\n",
    "print(\"=\" * 30)\n",
    "\n",
    "# 2 Dimension, axis 0은 5로 변경\n",
    "ndarray2 = ndarray1.reshape((5, -1))\n",
    "print(ndarray2)\n",
    "print(\"=\" * 30)\n",
    "\n",
    "# 2행의 4번째 숫자 출력\n",
    "value = ndarray2[1, 3]\n",
    "print(value)\n",
    "print(\"=\" * 30)"
   ]
  },
  {
   "cell_type": "code",
   "execution_count": 14,
   "id": "1e3a6add-71a8-469e-80bf-cee33b8f8fea",
   "metadata": {},
   "outputs": [
    {
     "name": "stdout",
     "output_type": "stream",
     "text": [
      "[  2   4   6   8  10  12  14  16  18  20  22  24  26  28  30  32  34  36\n",
      "  38  40  42  44  46  48  50  52  54  56  58  60  62  64  66  68  70  72\n",
      "  74  76  78  80  82  84  86  88  90  92  94  96  98 100]\n",
      "==============================\n",
      "[[  2   4   6   8  10]\n",
      " [ 12  14  16  18  20]\n",
      " [ 22  24  26  28  30]\n",
      " [ 32  34  36  38  40]\n",
      " [ 42  44  46  48  50]\n",
      " [ 52  54  56  58  60]\n",
      " [ 62  64  66  68  70]\n",
      " [ 72  74  76  78  80]\n",
      " [ 82  84  86  88  90]\n",
      " [ 92  94  96  98 100]]\n",
      "[[ 82  84  86  88  90]\n",
      " [ 92  94  96  98 100]]\n",
      "==============================\n",
      "(array([0], dtype=int64), array([2], dtype=int64))\n",
      "(array([1], dtype=int64), array([4], dtype=int64))\n"
     ]
    }
   ],
   "source": [
    "# 1~100중 짝수만 출력\n",
    "ndarray1 = np.arange(start=2, stop=101, step=2)\n",
    "print(ndarray1)\n",
    "print(\"=\" * 30)\n",
    "\n",
    "# 위에서 구한 짝수들을 axis 0이 10인 2차원 배열로 변환 후 82~100까지 추출\n",
    "ndarray2 = ndarray1.reshape((10, -1))\n",
    "print(ndarray2)\n",
    "ndarray2 = ndarray2[8:]\n",
    "print(ndarray2)\n",
    "print(\"=\" * 30)\n",
    "\n",
    "# 위에서 구한 요소 중 (86, 100) 좌표 구하기\n",
    "point1 = np.where(ndarray2 == 86)\n",
    "point2 = np.where(ndarray2 == 100)\n",
    "print(point1, point2, sep=\"\\n\")"
   ]
  },
  {
   "cell_type": "code",
   "execution_count": 15,
   "id": "8b6e3599-c152-4317-a064-f07b49294b94",
   "metadata": {},
   "outputs": [
    {
     "name": "stdout",
     "output_type": "stream",
     "text": [
      "[ 2 12 22 32 42 52 62 72 82 92]\n",
      "==============================\n",
      "[10 20 30 40]\n",
      "==============================\n",
      "[20 30 40]\n",
      "==============================\n"
     ]
    }
   ],
   "source": [
    "# 아래의 ndarray1이 주어졌을 때 순서대로 문제를 해결한다.\n",
    "ndarray1 = np.arange(start=1, stop=101)\n",
    "\n",
    "# 각 요소중 1의 자리수가 2인 수들만 추출하기\n",
    "result_array1 = ndarray1[ndarray1 % 10 == 2]\n",
    "print(result_array1)\n",
    "print(\"=\" * 30)\n",
    "\n",
    "# 1~49요소 중 2와 5의 공배수 추출하기\n",
    "ndarray1 = np.arange(start=1, stop=50)\n",
    "ndarray1 = ndarray1[ndarray1 % 10 == 0]\n",
    "print(ndarray1)\n",
    "print(\"=\" * 30)\n",
    "\n",
    "# 위에서 추출한 공배수 중 20이상인 값만 추출하기\n",
    "ndarray1 = ndarray1[ndarray1 >= 20]\n",
    "print(ndarray1)\n",
    "print(\"=\" * 30)"
   ]
  },
  {
   "cell_type": "code",
   "execution_count": 16,
   "id": "9ff804ac-ba84-46f3-b1f5-1ccd5fd6c0e3",
   "metadata": {},
   "outputs": [
    {
     "name": "stdout",
     "output_type": "stream",
     "text": [
      "가격별 내림차순\n",
      "['Melon' 'Pitch' 'Pear' 'Apple' 'Mango']\n",
      "==============================\n"
     ]
    }
   ],
   "source": [
    "# 데이터를 분석하여, 각 수치별 오름차순 및 내림차순 후 이름을 출력하세요.\n",
    "# [[과일이름], [가격]], 가격별 내림차순\n",
    "array1 = [['Mango', 'Apple', 'Pear', 'Pitch', 'Melon'], [1500, 1800, 2000, 2500, 8500]]\n",
    "fruits = np.array(array1[0])\n",
    "prices = np.array(array1[1])\n",
    "sorted_indices = prices.argsort()[::-1]\n",
    "sorted_fruits = fruits[sorted_indices]\n",
    "print(f'가격별 내림차순\\n{sorted_fruits}')\n",
    "print(\"=\" * 30)"
   ]
  },
  {
   "cell_type": "code",
   "execution_count": 17,
   "id": "3671e13f-2a27-477d-bed6-a60a4e58f702",
   "metadata": {},
   "outputs": [
    {
     "name": "stdout",
     "output_type": "stream",
     "text": [
      "나이별 내림차순\n",
      "['길동' '마이콜' '또치' '둘리' '도너']\n",
      "==============================\n",
      "학점별 오름차순\n",
      "['또치' '길동' '둘리' '마이콜' '도너']\n",
      "==============================\n"
     ]
    }
   ],
   "source": [
    "# [[이름], [나이], [학점]], 나이별 내림차순, 학점별 오름차순\n",
    "array2 = [['둘리', '또치', '길동', '도너', '마이콜'], [7, 9, 40, 5, 20], ['C', 'A', 'B', 'F', 'D']]\n",
    "names = np.array(array2[0])\n",
    "ages = np.array(array2[1])\n",
    "grades = np.array(array2[-1])\n",
    "age_sorted_indices = ages.argsort()[::-1]\n",
    "age_sorted_names = names[age_sorted_indices]\n",
    "print(f'나이별 내림차순\\n{age_sorted_names}')\n",
    "print(\"=\" * 30)\n",
    "grade_sorted_indices = grades.argsort()\n",
    "grade_sorted_names = names[grade_sorted_indices]\n",
    "print(f'학점별 오름차순\\n{grade_sorted_names}')\n",
    "print(\"=\" * 30)"
   ]
  },
  {
   "cell_type": "code",
   "execution_count": 18,
   "id": "a93026c5-a1db-49f7-8917-5fb1aadc8a90",
   "metadata": {},
   "outputs": [
    {
     "name": "stdout",
     "output_type": "stream",
     "text": [
      "GDP 성장률별 오름차순\n",
      "['영국' '러시아' '남아프리카 공화국' '미국' '한국']\n",
      "==============================\n"
     ]
    }
   ],
   "source": [
    "# [[국가이름], [GDP 성장률]], GDP 성장률별 오름차순\n",
    "array3 = [['한국', '영국', '러시아', '남아프리카 공화국', '미국'], ['1.7%', '-0.6%', '0.3%', '1.2%', '1.4%']]\n",
    "country_names = np.array(array3[0])\n",
    "gdps = np.array(array3[1])\n",
    "sorted_indices = gdps.argsort()\n",
    "sorted_country_names = country_names[sorted_indices]\n",
    "print(f'GDP 성장률별 오름차순\\n{sorted_country_names}')\n",
    "print(\"=\" * 30)"
   ]
  },
  {
   "cell_type": "code",
   "execution_count": null,
   "id": "768db55d-b5cc-4a90-968e-47bfe0334ff6",
   "metadata": {},
   "outputs": [],
   "source": []
  },
  {
   "cell_type": "code",
   "execution_count": null,
   "id": "92fe90d5-a4b9-4ad2-991a-fd01487581b3",
   "metadata": {},
   "outputs": [],
   "source": []
  },
  {
   "cell_type": "code",
   "execution_count": null,
   "id": "deb84307-5043-4470-b6de-cc9eef3b0f96",
   "metadata": {},
   "outputs": [],
   "source": []
  },
  {
   "cell_type": "code",
   "execution_count": null,
   "id": "dfd765bd-d918-459f-b872-be3e8c28bc0c",
   "metadata": {},
   "outputs": [],
   "source": []
  },
  {
   "cell_type": "code",
   "execution_count": null,
   "id": "5068843a-cf9e-4a25-9b1e-41f617b76e2d",
   "metadata": {},
   "outputs": [],
   "source": []
  }
 ],
 "metadata": {
  "kernelspec": {
   "display_name": "Python 3 (ipykernel)",
   "language": "python",
   "name": "python3"
  },
  "language_info": {
   "codemirror_mode": {
    "name": "ipython",
    "version": 3
   },
   "file_extension": ".py",
   "mimetype": "text/x-python",
   "name": "python",
   "nbconvert_exporter": "python",
   "pygments_lexer": "ipython3",
   "version": "3.11.8"
  }
 },
 "nbformat": 4,
 "nbformat_minor": 5
}
